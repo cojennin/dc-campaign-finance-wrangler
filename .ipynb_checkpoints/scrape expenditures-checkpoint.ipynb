{
 "metadata": {
  "name": "",
  "signature": "sha256:e271d948fcecd461405b7d0c8319c12daf03ba2db23e0ac6e11283584b3b931c"
 },
 "nbformat": 3,
 "nbformat_minor": 0,
 "worksheets": [
  {
   "cells": [
    {
     "cell_type": "code",
     "collapsed": false,
     "input": [
      "#!/usr/bin/env python3\n",
      "# Scrape campaign expenditures data\n",
      "import os\n",
      "from urllib import request\n",
      "csv_dir = '../dc-campaign-finance-data/csv'\n",
      "if not os.path.exists(csv_dir):\n",
      "    os.makedirs(csv_dir)\n",
      "\n",
      "filename = os.path.join(csv_dir, 'ocf_contributions.csv')\n",
      "expurl = 'http://www.ocf.dc.gov/dsearch/printrpt_con.asp?mf1=&ml1=&ms1=&mc1=&mo1=N&xa=&sa=&ea=&ca=N&sc=E&mf3=&ml3=&ms3=&mc3=&mf4=&ml4=&ms4=&mo4=N&d1=0&m1=0&y1=0&d2=0&m2=0&y2=0&d3=0&m3=0&y3=0&mo5=N&sc5=L&sr=6&ob1=agyname&ob2=&ob3=&type=pcc&searchtype=adv&printtype=csv'\n",
      "request.urlretrieve (expurl, filename) \n",
      "\n",
      "filename = os.path.join(csv_dir, 'ocf_expenditures.csv')\n",
      "expurl = 'http://www.ocf.dc.gov/dsearch/printrpt_exp.asp?mf1=&ml1=&ms1=&mc1=&mo1=N&xa=&sa=&ea=&ca=N&sc=&mf3=&ml3=&ms3=&mc3=&mf4=&ml4=&ms4=&mo4=N&d1=0&m1=0&y1=0&d2=0&m2=0&y2=0&d3=0&m3=0&y3=0&mo5=N&sc5=&sr=6&ob1=agyname&ob2=&ob3=&type=pcc&searchtype=rec&printtype=csv'\n",
      "request.urlretrieve (expurl, filename) "
     ],
     "language": "python",
     "metadata": {},
     "outputs": [
      {
       "metadata": {},
       "output_type": "pyout",
       "prompt_number": 1,
       "text": [
        "('../dc-campaign-finance-data/csv/ocf_expenditures.csv',\n",
        " <http.client.HTTPMessage at 0x1056d9518>)"
       ]
      }
     ],
     "prompt_number": 1
    },
    {
     "cell_type": "code",
     "collapsed": false,
     "input": [],
     "language": "python",
     "metadata": {},
     "outputs": [
      {
       "metadata": {},
       "output_type": "pyout",
       "prompt_number": 3,
       "text": [
        "('../dc-campaign-finance-data/csv/ocf_contributions.csv',\n",
        " <http.client.HTTPMessage at 0x1046222b0>)"
       ]
      }
     ],
     "prompt_number": 3
    },
    {
     "cell_type": "code",
     "collapsed": false,
     "input": [],
     "language": "python",
     "metadata": {},
     "outputs": []
    },
    {
     "cell_type": "code",
     "collapsed": false,
     "input": [],
     "language": "python",
     "metadata": {},
     "outputs": []
    }
   ],
   "metadata": {}
  }
 ]
}